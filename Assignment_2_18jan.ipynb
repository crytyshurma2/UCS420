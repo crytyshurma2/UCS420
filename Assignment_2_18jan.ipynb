{
  "nbformat": 4,
  "nbformat_minor": 0,
  "metadata": {
    "colab": {
      "provenance": []
    },
    "kernelspec": {
      "name": "python3",
      "display_name": "Python 3"
    },
    "language_info": {
      "name": "python"
    }
  },
  "cells": [
    {
      "cell_type": "code",
      "execution_count": null,
      "metadata": {
        "id": "G72XHuaPct3g"
      },
      "outputs": [],
      "source": []
    },
    {
      "cell_type": "markdown",
      "source": [
        "Assignment **2**"
      ],
      "metadata": {
        "id": "inNQpskrd3mW"
      }
    },
    {
      "cell_type": "markdown",
      "source": [
        "1"
      ],
      "metadata": {
        "id": "HcqXErXHd8MG"
      }
    },
    {
      "cell_type": "code",
      "source": [
        "L=[10,20,30,40,50,60,70,80]\n",
        "L.append(200)\n",
        "L.append(300)\n",
        "print(\"after 1\",L)\n",
        "L.remove(10)\n",
        "L.remove(30)\n",
        "print(\"after 2\",L)\n",
        "L.sort()\n",
        "print(\"after 3\",L)\n",
        "L.sort(reverse=True)\n",
        "print(\"after 4 \",L)\n"
      ],
      "metadata": {
        "colab": {
          "base_uri": "https://localhost:8080/"
        },
        "id": "jO59M89pd6lz",
        "outputId": "ee243bd6-4b2d-4ccb-edc2-5351acf6281f"
      },
      "execution_count": 1,
      "outputs": [
        {
          "output_type": "stream",
          "name": "stdout",
          "text": [
            "after 1 [10, 20, 30, 40, 50, 60, 70, 80, 200, 300]\n",
            "after 2 [20, 40, 50, 60, 70, 80, 200, 300]\n",
            "after 3 [20, 40, 50, 60, 70, 80, 200, 300]\n",
            "after 4  [300, 200, 80, 70, 60, 50, 40, 20]\n"
          ]
        }
      ]
    },
    {
      "cell_type": "markdown",
      "source": [
        "2"
      ],
      "metadata": {
        "id": "eNNd5aXrfRcr"
      }
    },
    {
      "cell_type": "code",
      "source": [
        "t=(45, 89.5, 76, 45.4, 89, 92, 58, 45)\n",
        "\n",
        "print(max(t))\n",
        "print(t.index(max(t)))\n",
        "print(min(t))\n",
        "print(t.count(min(t)))\n",
        "lst=list(t[::-1])\n",
        "print(lst)\n",
        "n=int(input(\"enter the number\"))\n",
        "if(t.count(n)):\n",
        "  print( t.index(n))\n",
        "else:\n",
        "  print(\"Not present\")\n",
        "\n"
      ],
      "metadata": {
        "colab": {
          "base_uri": "https://localhost:8080/"
        },
        "id": "4wq1IaeFfZPi",
        "outputId": "2e681005-5c53-497c-9366-ae5592545f22"
      },
      "execution_count": 15,
      "outputs": [
        {
          "output_type": "stream",
          "name": "stdout",
          "text": [
            "92\n",
            "5\n",
            "45\n",
            "2\n",
            "[45, 58, 92, 89, 45.4, 76, 89.5, 45]\n",
            "enter the number12\n",
            "Not present\n"
          ]
        }
      ]
    },
    {
      "cell_type": "markdown",
      "source": [
        "**3**"
      ],
      "metadata": {
        "id": "N1jVJsyzfUvx"
      }
    },
    {
      "cell_type": "code",
      "source": [
        "import random\n",
        "random_nums=[random.randint(101,899) for i in range(100)]\n",
        "#print(random_nums)\n",
        "cnt=0\n",
        "for i in random_nums:\n",
        "  if(i%2==1):\n",
        "    cnt+=1;\n",
        "    print(i,end=\" \")\n",
        "print(\"\\n\")\n",
        "print(\"count of odd no = \",cnt)\n",
        "cnte=0\n",
        "for i in random_nums:\n",
        "  if(i%2==0):\n",
        "    cnte+=1;\n",
        "    print(i,end=\" \")\n",
        "print(\"\\n\")\n",
        "print(\"count of even no = \",cnte)\n",
        "def is_prime(n):\n",
        "  if(n<=1):\n",
        "    return False\n",
        "  for i in range(2,n//2,1):\n",
        "    if(n%i==0):\n",
        "      return False\n",
        "  return True\n",
        "prime_numbers = [num for num in random_nums if is_prime(num)]\n",
        "print(\"Prime numbers:\", prime_numbers)\n",
        "print(len(prime_numbers))\n"
      ],
      "metadata": {
        "colab": {
          "base_uri": "https://localhost:8080/"
        },
        "id": "bwloDur1p8z2",
        "outputId": "1eb3e2e4-a9fb-41a6-a480-a0ffac5daa24"
      },
      "execution_count": 24,
      "outputs": [
        {
          "output_type": "stream",
          "name": "stdout",
          "text": [
            "219 127 883 623 619 703 133 181 699 433 283 465 107 841 423 731 893 867 739 319 873 145 867 401 615 855 437 497 145 699 463 513 407 889 821 673 665 497 689 787 337 819 723 307 315 315 103 553 565 859 209 \n",
            "\n",
            "count of odd no =  51\n",
            "244 560 106 370 522 624 436 482 874 842 736 460 384 410 816 300 362 502 656 576 330 726 752 574 320 528 450 714 180 800 532 896 310 588 104 698 594 418 828 778 360 372 440 774 364 262 194 232 722 \n",
            "\n",
            "count of even no =  49\n",
            "Prime numbers: [127, 883, 619, 181, 433, 283, 107, 739, 401, 463, 821, 673, 787, 337, 307, 103, 859]\n",
            "17\n"
          ]
        }
      ]
    },
    {
      "cell_type": "markdown",
      "source": [
        "**4**"
      ],
      "metadata": {
        "id": "hYv6lGhsyUUi"
      }
    },
    {
      "cell_type": "code",
      "source": [
        "A = {34, 56, 78, 90}\n",
        "B = {78, 45, 90, 23}\n",
        "print(A.union(B))\n",
        "print(A.intersection(B))\n",
        "print(A.difference(B))\n",
        "print(B.difference(A))\n",
        "print(A.symmetric_difference(B))\n",
        "if(A.issubset(B)):\n",
        "  print(\"A is subset of B\")\n",
        "else:\n",
        "  print(\"A is not subset of B\")\n",
        "if(B.issuperset(A)):\n",
        "  print(\"B is superset of A\")\n",
        "else:\n",
        "  print(\"B is not superset of A\")\n",
        "x=int(input(\"enter the number\"))\n",
        "if(x in A):\n",
        "  A.remove(x)\n",
        "  print(\"x is removed from A\")\n",
        "  print(A)\n",
        "else:\n",
        "  print(x ,\" is not present in A\")"
      ],
      "metadata": {
        "colab": {
          "base_uri": "https://localhost:8080/"
        },
        "id": "tMMlqlgvyV0X",
        "outputId": "2c65a7dd-2147-4b1e-b7d8-19380e4f6179"
      },
      "execution_count": 31,
      "outputs": [
        {
          "output_type": "stream",
          "name": "stdout",
          "text": [
            "{34, 45, 78, 23, 56, 90}\n",
            "{90, 78}\n",
            "{56, 34}\n",
            "{45, 23}\n",
            "{34, 45, 23, 56}\n",
            "A is not subset of B\n",
            "B is not superset of A\n",
            "enter the number23\n",
            "23  is not present in A\n"
          ]
        }
      ]
    },
    {
      "cell_type": "markdown",
      "source": [
        "**5**"
      ],
      "metadata": {
        "id": "D2TiLPeAz5gj"
      }
    },
    {
      "cell_type": "code",
      "source": [
        "sample_dict={\"name\":\"Kelly\",\n",
        "            \"age\":25,\n",
        "            \"salary\":8000,\n",
        "            \"city\":\"New york\"}\n",
        "sample_dict[\"location\"]=sample_dict.pop(\"city\")\n",
        "print(sample_dict)\n",
        "\n"
      ],
      "metadata": {
        "colab": {
          "base_uri": "https://localhost:8080/"
        },
        "id": "Gxy6q-A0z7gb",
        "outputId": "b74d85a1-d9a2-47b2-97d9-d03049ae5385"
      },
      "execution_count": 32,
      "outputs": [
        {
          "output_type": "stream",
          "name": "stdout",
          "text": [
            "{'name': 'Kelly', 'age': 25, 'salary': 8000, 'location': 'New york'}\n"
          ]
        }
      ]
    }
  ]
}